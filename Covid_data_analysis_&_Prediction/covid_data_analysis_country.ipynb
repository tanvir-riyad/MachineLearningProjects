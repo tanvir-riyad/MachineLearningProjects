{
 "cells": [
  {
   "cell_type": "markdown",
   "id": "d77265cb",
   "metadata": {},
   "source": [
    "## Loading and Cleaning dataset"
   ]
  },
  {
   "cell_type": "code",
   "execution_count": 1,
   "id": "1e8dfa87",
   "metadata": {},
   "outputs": [],
   "source": [
    "import pandas as pd\n"
   ]
  },
  {
   "cell_type": "code",
   "execution_count": 2,
   "id": "6302b950",
   "metadata": {},
   "outputs": [],
   "source": [
    "data = pd.read_csv('C:/Users/tanvi/Downloads/covid_19_data.csv', low_memory=False)\n",
    "#set low_memory=False"
   ]
  },
  {
   "cell_type": "code",
   "execution_count": 3,
   "id": "f4abdc99",
   "metadata": {},
   "outputs": [
    {
     "data": {
      "text/html": [
       "<div>\n",
       "<style scoped>\n",
       "    .dataframe tbody tr th:only-of-type {\n",
       "        vertical-align: middle;\n",
       "    }\n",
       "\n",
       "    .dataframe tbody tr th {\n",
       "        vertical-align: top;\n",
       "    }\n",
       "\n",
       "    .dataframe thead th {\n",
       "        text-align: right;\n",
       "    }\n",
       "</style>\n",
       "<table border=\"1\" class=\"dataframe\">\n",
       "  <thead>\n",
       "    <tr style=\"text-align: right;\">\n",
       "      <th></th>\n",
       "      <th>SNo</th>\n",
       "      <th>ObservationDate</th>\n",
       "      <th>Province/State</th>\n",
       "      <th>Country/Region</th>\n",
       "      <th>Last Update</th>\n",
       "      <th>Confirmed</th>\n",
       "      <th>Deaths</th>\n",
       "      <th>Recovered</th>\n",
       "    </tr>\n",
       "  </thead>\n",
       "  <tbody>\n",
       "    <tr>\n",
       "      <th>0</th>\n",
       "      <td>1</td>\n",
       "      <td>01/22/2020</td>\n",
       "      <td>Anhui</td>\n",
       "      <td>Mainland China</td>\n",
       "      <td>1/22/2020 17:00</td>\n",
       "      <td>1.0</td>\n",
       "      <td>0.0</td>\n",
       "      <td>0.0</td>\n",
       "    </tr>\n",
       "    <tr>\n",
       "      <th>1</th>\n",
       "      <td>2</td>\n",
       "      <td>01/22/2020</td>\n",
       "      <td>Beijing</td>\n",
       "      <td>Mainland China</td>\n",
       "      <td>1/22/2020 17:00</td>\n",
       "      <td>14.0</td>\n",
       "      <td>0.0</td>\n",
       "      <td>0.0</td>\n",
       "    </tr>\n",
       "    <tr>\n",
       "      <th>2</th>\n",
       "      <td>3</td>\n",
       "      <td>01/22/2020</td>\n",
       "      <td>Chongqing</td>\n",
       "      <td>Mainland China</td>\n",
       "      <td>1/22/2020 17:00</td>\n",
       "      <td>6.0</td>\n",
       "      <td>0.0</td>\n",
       "      <td>0.0</td>\n",
       "    </tr>\n",
       "    <tr>\n",
       "      <th>3</th>\n",
       "      <td>4</td>\n",
       "      <td>01/22/2020</td>\n",
       "      <td>Fujian</td>\n",
       "      <td>Mainland China</td>\n",
       "      <td>1/22/2020 17:00</td>\n",
       "      <td>1.0</td>\n",
       "      <td>0.0</td>\n",
       "      <td>0.0</td>\n",
       "    </tr>\n",
       "    <tr>\n",
       "      <th>4</th>\n",
       "      <td>5</td>\n",
       "      <td>01/22/2020</td>\n",
       "      <td>Gansu</td>\n",
       "      <td>Mainland China</td>\n",
       "      <td>1/22/2020 17:00</td>\n",
       "      <td>0.0</td>\n",
       "      <td>0.0</td>\n",
       "      <td>0.0</td>\n",
       "    </tr>\n",
       "  </tbody>\n",
       "</table>\n",
       "</div>"
      ],
      "text/plain": [
       "   SNo ObservationDate Province/State  Country/Region      Last Update  \\\n",
       "0    1      01/22/2020          Anhui  Mainland China  1/22/2020 17:00   \n",
       "1    2      01/22/2020        Beijing  Mainland China  1/22/2020 17:00   \n",
       "2    3      01/22/2020      Chongqing  Mainland China  1/22/2020 17:00   \n",
       "3    4      01/22/2020         Fujian  Mainland China  1/22/2020 17:00   \n",
       "4    5      01/22/2020          Gansu  Mainland China  1/22/2020 17:00   \n",
       "\n",
       "   Confirmed  Deaths  Recovered  \n",
       "0        1.0     0.0        0.0  \n",
       "1       14.0     0.0        0.0  \n",
       "2        6.0     0.0        0.0  \n",
       "3        1.0     0.0        0.0  \n",
       "4        0.0     0.0        0.0  "
      ]
     },
     "execution_count": 3,
     "metadata": {},
     "output_type": "execute_result"
    }
   ],
   "source": [
    "data.head()"
   ]
  },
  {
   "cell_type": "code",
   "execution_count": 4,
   "id": "9744919b",
   "metadata": {},
   "outputs": [
    {
     "name": "stdout",
     "output_type": "stream",
     "text": [
      "<class 'pandas.core.frame.DataFrame'>\n",
      "RangeIndex: 281487 entries, 0 to 281486\n",
      "Data columns (total 8 columns):\n",
      " #   Column           Non-Null Count   Dtype  \n",
      "---  ------           --------------   -----  \n",
      " 0   SNo              281487 non-null  int64  \n",
      " 1   ObservationDate  281487 non-null  object \n",
      " 2   Province/State   209353 non-null  object \n",
      " 3   Country/Region   281487 non-null  object \n",
      " 4   Last Update      281487 non-null  object \n",
      " 5   Confirmed        281487 non-null  float64\n",
      " 6   Deaths           281487 non-null  float64\n",
      " 7   Recovered        281487 non-null  float64\n",
      "dtypes: float64(3), int64(1), object(4)\n",
      "memory usage: 17.2+ MB\n"
     ]
    }
   ],
   "source": [
    "data.info()"
   ]
  },
  {
   "cell_type": "code",
   "execution_count": 5,
   "id": "28c6e090",
   "metadata": {},
   "outputs": [
    {
     "data": {
      "text/plain": [
       "Province/State    72134\n",
       "dtype: int64"
      ]
     },
     "execution_count": 5,
     "metadata": {},
     "output_type": "execute_result"
    }
   ],
   "source": [
    "data.isnull().sum()[data.isnull().sum()>0]"
   ]
  },
  {
   "cell_type": "code",
   "execution_count": 6,
   "id": "5729bc2f",
   "metadata": {},
   "outputs": [],
   "source": [
    "data = data.drop(columns=['Province/State','SNo','Last Update'])\n"
   ]
  },
  {
   "cell_type": "code",
   "execution_count": 7,
   "id": "702ed1bd",
   "metadata": {},
   "outputs": [
    {
     "data": {
      "text/html": [
       "<div>\n",
       "<style scoped>\n",
       "    .dataframe tbody tr th:only-of-type {\n",
       "        vertical-align: middle;\n",
       "    }\n",
       "\n",
       "    .dataframe tbody tr th {\n",
       "        vertical-align: top;\n",
       "    }\n",
       "\n",
       "    .dataframe thead th {\n",
       "        text-align: right;\n",
       "    }\n",
       "</style>\n",
       "<table border=\"1\" class=\"dataframe\">\n",
       "  <thead>\n",
       "    <tr style=\"text-align: right;\">\n",
       "      <th></th>\n",
       "      <th>ObservationDate</th>\n",
       "      <th>Country/Region</th>\n",
       "      <th>Confirmed</th>\n",
       "      <th>Deaths</th>\n",
       "      <th>Recovered</th>\n",
       "    </tr>\n",
       "  </thead>\n",
       "  <tbody>\n",
       "    <tr>\n",
       "      <th>0</th>\n",
       "      <td>01/22/2020</td>\n",
       "      <td>Mainland China</td>\n",
       "      <td>1.0</td>\n",
       "      <td>0.0</td>\n",
       "      <td>0.0</td>\n",
       "    </tr>\n",
       "    <tr>\n",
       "      <th>1</th>\n",
       "      <td>01/22/2020</td>\n",
       "      <td>Mainland China</td>\n",
       "      <td>14.0</td>\n",
       "      <td>0.0</td>\n",
       "      <td>0.0</td>\n",
       "    </tr>\n",
       "    <tr>\n",
       "      <th>2</th>\n",
       "      <td>01/22/2020</td>\n",
       "      <td>Mainland China</td>\n",
       "      <td>6.0</td>\n",
       "      <td>0.0</td>\n",
       "      <td>0.0</td>\n",
       "    </tr>\n",
       "    <tr>\n",
       "      <th>3</th>\n",
       "      <td>01/22/2020</td>\n",
       "      <td>Mainland China</td>\n",
       "      <td>1.0</td>\n",
       "      <td>0.0</td>\n",
       "      <td>0.0</td>\n",
       "    </tr>\n",
       "    <tr>\n",
       "      <th>4</th>\n",
       "      <td>01/22/2020</td>\n",
       "      <td>Mainland China</td>\n",
       "      <td>0.0</td>\n",
       "      <td>0.0</td>\n",
       "      <td>0.0</td>\n",
       "    </tr>\n",
       "  </tbody>\n",
       "</table>\n",
       "</div>"
      ],
      "text/plain": [
       "  ObservationDate  Country/Region  Confirmed  Deaths  Recovered\n",
       "0      01/22/2020  Mainland China        1.0     0.0        0.0\n",
       "1      01/22/2020  Mainland China       14.0     0.0        0.0\n",
       "2      01/22/2020  Mainland China        6.0     0.0        0.0\n",
       "3      01/22/2020  Mainland China        1.0     0.0        0.0\n",
       "4      01/22/2020  Mainland China        0.0     0.0        0.0"
      ]
     },
     "execution_count": 7,
     "metadata": {},
     "output_type": "execute_result"
    }
   ],
   "source": [
    "data.head()"
   ]
  },
  {
   "cell_type": "code",
   "execution_count": 8,
   "id": "82c7154a",
   "metadata": {},
   "outputs": [
    {
     "data": {
      "text/plain": [
       "False"
      ]
     },
     "execution_count": 8,
     "metadata": {},
     "output_type": "execute_result"
    }
   ],
   "source": [
    "data.isnull().values.any()"
   ]
  },
  {
   "cell_type": "code",
   "execution_count": 9,
   "id": "8e75903a",
   "metadata": {},
   "outputs": [],
   "source": [
    "data.rename(columns={'Country/Region': 'Country','ObservationDate' : 'Date'}, inplace=True)"
   ]
  },
  {
   "cell_type": "code",
   "execution_count": 10,
   "id": "fe26e1e7",
   "metadata": {},
   "outputs": [],
   "source": [
    "name = [\"('St. Martin',)\", 'Bahamas, The', 'The Bahamas', 'Congo (Brazzaville)', 'The Gambia', 'Gambia, The',\n",
    "       'Cabo Verde','Mainland China', 'UK','Ireland', 'US', 'Burma']\n",
    "replace=['St. Martin', 'Bahamas', 'Bahamas', 'Republic of the Congo', 'Gambia', 'Gambia', 'Cape Verde', \n",
    "         'China', 'United Kingdom', 'Republic of Ireland', 'United States','Myanmar']"
   ]
  },
  {
   "cell_type": "code",
   "execution_count": 11,
   "id": "ea7db537",
   "metadata": {},
   "outputs": [],
   "source": [
    "data.replace(to_replace=name, value=replace, inplace=True)"
   ]
  },
  {
   "cell_type": "code",
   "execution_count": 12,
   "id": "a5d849a0",
   "metadata": {},
   "outputs": [
    {
     "data": {
      "text/html": [
       "<div>\n",
       "<style scoped>\n",
       "    .dataframe tbody tr th:only-of-type {\n",
       "        vertical-align: middle;\n",
       "    }\n",
       "\n",
       "    .dataframe tbody tr th {\n",
       "        vertical-align: top;\n",
       "    }\n",
       "\n",
       "    .dataframe thead th {\n",
       "        text-align: right;\n",
       "    }\n",
       "</style>\n",
       "<table border=\"1\" class=\"dataframe\">\n",
       "  <thead>\n",
       "    <tr style=\"text-align: right;\">\n",
       "      <th></th>\n",
       "      <th>Date</th>\n",
       "      <th>Country</th>\n",
       "      <th>Confirmed</th>\n",
       "      <th>Deaths</th>\n",
       "      <th>Recovered</th>\n",
       "    </tr>\n",
       "  </thead>\n",
       "  <tbody>\n",
       "    <tr>\n",
       "      <th>0</th>\n",
       "      <td>01/22/2020</td>\n",
       "      <td>China</td>\n",
       "      <td>1.0</td>\n",
       "      <td>0.0</td>\n",
       "      <td>0.0</td>\n",
       "    </tr>\n",
       "    <tr>\n",
       "      <th>1</th>\n",
       "      <td>01/22/2020</td>\n",
       "      <td>China</td>\n",
       "      <td>14.0</td>\n",
       "      <td>0.0</td>\n",
       "      <td>0.0</td>\n",
       "    </tr>\n",
       "    <tr>\n",
       "      <th>2</th>\n",
       "      <td>01/22/2020</td>\n",
       "      <td>China</td>\n",
       "      <td>6.0</td>\n",
       "      <td>0.0</td>\n",
       "      <td>0.0</td>\n",
       "    </tr>\n",
       "    <tr>\n",
       "      <th>3</th>\n",
       "      <td>01/22/2020</td>\n",
       "      <td>China</td>\n",
       "      <td>1.0</td>\n",
       "      <td>0.0</td>\n",
       "      <td>0.0</td>\n",
       "    </tr>\n",
       "    <tr>\n",
       "      <th>4</th>\n",
       "      <td>01/22/2020</td>\n",
       "      <td>China</td>\n",
       "      <td>0.0</td>\n",
       "      <td>0.0</td>\n",
       "      <td>0.0</td>\n",
       "    </tr>\n",
       "    <tr>\n",
       "      <th>...</th>\n",
       "      <td>...</td>\n",
       "      <td>...</td>\n",
       "      <td>...</td>\n",
       "      <td>...</td>\n",
       "      <td>...</td>\n",
       "    </tr>\n",
       "    <tr>\n",
       "      <th>281482</th>\n",
       "      <td>04/27/2021</td>\n",
       "      <td>Ukraine</td>\n",
       "      <td>94375.0</td>\n",
       "      <td>1854.0</td>\n",
       "      <td>75409.0</td>\n",
       "    </tr>\n",
       "    <tr>\n",
       "      <th>281483</th>\n",
       "      <td>04/27/2021</td>\n",
       "      <td>Netherlands</td>\n",
       "      <td>25243.0</td>\n",
       "      <td>233.0</td>\n",
       "      <td>0.0</td>\n",
       "    </tr>\n",
       "    <tr>\n",
       "      <th>281484</th>\n",
       "      <td>04/27/2021</td>\n",
       "      <td>China</td>\n",
       "      <td>1332.0</td>\n",
       "      <td>1.0</td>\n",
       "      <td>1320.0</td>\n",
       "    </tr>\n",
       "    <tr>\n",
       "      <th>281485</th>\n",
       "      <td>04/27/2021</td>\n",
       "      <td>Ukraine</td>\n",
       "      <td>83314.0</td>\n",
       "      <td>1565.0</td>\n",
       "      <td>65414.0</td>\n",
       "    </tr>\n",
       "    <tr>\n",
       "      <th>281486</th>\n",
       "      <td>04/27/2021</td>\n",
       "      <td>Netherlands</td>\n",
       "      <td>350731.0</td>\n",
       "      <td>4119.0</td>\n",
       "      <td>0.0</td>\n",
       "    </tr>\n",
       "  </tbody>\n",
       "</table>\n",
       "<p>281487 rows × 5 columns</p>\n",
       "</div>"
      ],
      "text/plain": [
       "              Date      Country  Confirmed  Deaths  Recovered\n",
       "0       01/22/2020        China        1.0     0.0        0.0\n",
       "1       01/22/2020        China       14.0     0.0        0.0\n",
       "2       01/22/2020        China        6.0     0.0        0.0\n",
       "3       01/22/2020        China        1.0     0.0        0.0\n",
       "4       01/22/2020        China        0.0     0.0        0.0\n",
       "...            ...          ...        ...     ...        ...\n",
       "281482  04/27/2021      Ukraine    94375.0  1854.0    75409.0\n",
       "281483  04/27/2021  Netherlands    25243.0   233.0        0.0\n",
       "281484  04/27/2021        China     1332.0     1.0     1320.0\n",
       "281485  04/27/2021      Ukraine    83314.0  1565.0    65414.0\n",
       "281486  04/27/2021  Netherlands   350731.0  4119.0        0.0\n",
       "\n",
       "[281487 rows x 5 columns]"
      ]
     },
     "execution_count": 12,
     "metadata": {},
     "output_type": "execute_result"
    }
   ],
   "source": [
    "data\n"
   ]
  },
  {
   "cell_type": "code",
   "execution_count": 14,
   "id": "79f502f1",
   "metadata": {},
   "outputs": [],
   "source": [
    "data['Date'] = pd.to_datetime(data['Date'])"
   ]
  },
  {
   "cell_type": "code",
   "execution_count": 15,
   "id": "38b286b7",
   "metadata": {},
   "outputs": [
    {
     "name": "stderr",
     "output_type": "stream",
     "text": [
      "<ipython-input-15-6a14cc82afcd>:1: FutureWarning: Indexing with multiple keys (implicitly converted to a tuple of keys) will be deprecated, use a list instead.\n",
      "  data = data.groupby(['Date', 'Country'])['Confirmed', 'Deaths', 'Recovered'].sum().reset_index()\n"
     ]
    }
   ],
   "source": [
    "data = data.groupby(['Date', 'Country'])['Confirmed', 'Deaths', 'Recovered'].sum().reset_index()"
   ]
  },
  {
   "cell_type": "code",
   "execution_count": 16,
   "id": "cca0dca4",
   "metadata": {
    "scrolled": false
   },
   "outputs": [
    {
     "data": {
      "text/html": [
       "<div>\n",
       "<style scoped>\n",
       "    .dataframe tbody tr th:only-of-type {\n",
       "        vertical-align: middle;\n",
       "    }\n",
       "\n",
       "    .dataframe tbody tr th {\n",
       "        vertical-align: top;\n",
       "    }\n",
       "\n",
       "    .dataframe thead th {\n",
       "        text-align: right;\n",
       "    }\n",
       "</style>\n",
       "<table border=\"1\" class=\"dataframe\">\n",
       "  <thead>\n",
       "    <tr style=\"text-align: right;\">\n",
       "      <th></th>\n",
       "      <th>Date</th>\n",
       "      <th>Country</th>\n",
       "      <th>Confirmed</th>\n",
       "      <th>Deaths</th>\n",
       "      <th>Recovered</th>\n",
       "    </tr>\n",
       "  </thead>\n",
       "  <tbody>\n",
       "    <tr>\n",
       "      <th>0</th>\n",
       "      <td>2020-01-22</td>\n",
       "      <td>China</td>\n",
       "      <td>547.0</td>\n",
       "      <td>17.0</td>\n",
       "      <td>28.0</td>\n",
       "    </tr>\n",
       "    <tr>\n",
       "      <th>1</th>\n",
       "      <td>2020-01-22</td>\n",
       "      <td>Hong Kong</td>\n",
       "      <td>0.0</td>\n",
       "      <td>0.0</td>\n",
       "      <td>0.0</td>\n",
       "    </tr>\n",
       "    <tr>\n",
       "      <th>2</th>\n",
       "      <td>2020-01-22</td>\n",
       "      <td>Japan</td>\n",
       "      <td>2.0</td>\n",
       "      <td>0.0</td>\n",
       "      <td>0.0</td>\n",
       "    </tr>\n",
       "    <tr>\n",
       "      <th>3</th>\n",
       "      <td>2020-01-22</td>\n",
       "      <td>Macau</td>\n",
       "      <td>1.0</td>\n",
       "      <td>0.0</td>\n",
       "      <td>0.0</td>\n",
       "    </tr>\n",
       "    <tr>\n",
       "      <th>4</th>\n",
       "      <td>2020-01-22</td>\n",
       "      <td>South Korea</td>\n",
       "      <td>1.0</td>\n",
       "      <td>0.0</td>\n",
       "      <td>0.0</td>\n",
       "    </tr>\n",
       "    <tr>\n",
       "      <th>...</th>\n",
       "      <td>...</td>\n",
       "      <td>...</td>\n",
       "      <td>...</td>\n",
       "      <td>...</td>\n",
       "      <td>...</td>\n",
       "    </tr>\n",
       "    <tr>\n",
       "      <th>80511</th>\n",
       "      <td>2021-04-27</td>\n",
       "      <td>Vietnam</td>\n",
       "      <td>2857.0</td>\n",
       "      <td>35.0</td>\n",
       "      <td>2516.0</td>\n",
       "    </tr>\n",
       "    <tr>\n",
       "      <th>80512</th>\n",
       "      <td>2021-04-27</td>\n",
       "      <td>West Bank and Gaza</td>\n",
       "      <td>293466.0</td>\n",
       "      <td>3201.0</td>\n",
       "      <td>267346.0</td>\n",
       "    </tr>\n",
       "    <tr>\n",
       "      <th>80513</th>\n",
       "      <td>2021-04-27</td>\n",
       "      <td>Yemen</td>\n",
       "      <td>6220.0</td>\n",
       "      <td>1207.0</td>\n",
       "      <td>2674.0</td>\n",
       "    </tr>\n",
       "    <tr>\n",
       "      <th>80514</th>\n",
       "      <td>2021-04-27</td>\n",
       "      <td>Zambia</td>\n",
       "      <td>91418.0</td>\n",
       "      <td>1249.0</td>\n",
       "      <td>89717.0</td>\n",
       "    </tr>\n",
       "    <tr>\n",
       "      <th>80515</th>\n",
       "      <td>2021-04-27</td>\n",
       "      <td>Zimbabwe</td>\n",
       "      <td>38164.0</td>\n",
       "      <td>1565.0</td>\n",
       "      <td>35480.0</td>\n",
       "    </tr>\n",
       "  </tbody>\n",
       "</table>\n",
       "<p>80516 rows × 5 columns</p>\n",
       "</div>"
      ],
      "text/plain": [
       "            Date             Country  Confirmed  Deaths  Recovered\n",
       "0     2020-01-22               China      547.0    17.0       28.0\n",
       "1     2020-01-22           Hong Kong        0.0     0.0        0.0\n",
       "2     2020-01-22               Japan        2.0     0.0        0.0\n",
       "3     2020-01-22               Macau        1.0     0.0        0.0\n",
       "4     2020-01-22         South Korea        1.0     0.0        0.0\n",
       "...          ...                 ...        ...     ...        ...\n",
       "80511 2021-04-27             Vietnam     2857.0    35.0     2516.0\n",
       "80512 2021-04-27  West Bank and Gaza   293466.0  3201.0   267346.0\n",
       "80513 2021-04-27               Yemen     6220.0  1207.0     2674.0\n",
       "80514 2021-04-27              Zambia    91418.0  1249.0    89717.0\n",
       "80515 2021-04-27            Zimbabwe    38164.0  1565.0    35480.0\n",
       "\n",
       "[80516 rows x 5 columns]"
      ]
     },
     "execution_count": 16,
     "metadata": {},
     "output_type": "execute_result"
    }
   ],
   "source": [
    "data"
   ]
  },
  {
   "cell_type": "markdown",
   "id": "76fbbee5",
   "metadata": {},
   "source": [
    "## Save Dataset Countrywise"
   ]
  },
  {
   "cell_type": "code",
   "execution_count": 17,
   "id": "4e9c59e3",
   "metadata": {},
   "outputs": [],
   "source": [
    "IND_dataset = data.loc[data['Country'] == 'India' ]"
   ]
  },
  {
   "cell_type": "code",
   "execution_count": 18,
   "id": "40e407c2",
   "metadata": {},
   "outputs": [],
   "source": [
    "writer = pd.ExcelWriter('IND_dataset.xlsx', engine='openpyxl', date_format='dd mmmm yyyy')\n",
    "#writer = pd.ExcelWriter(a, engine='xlsxwriter', date_format='dd mmmm yyyy')\n",
    "IND_dataset.to_excel(writer, sheet_name='Article Consumption Supplier Fo', index=False)\n",
    "writer.save()"
   ]
  },
  {
   "cell_type": "code",
   "execution_count": 19,
   "id": "b00cdeea",
   "metadata": {},
   "outputs": [],
   "source": [
    "FR_dataset = data.loc[data['Country'] == 'France' ]"
   ]
  },
  {
   "cell_type": "code",
   "execution_count": 20,
   "id": "3411bcad",
   "metadata": {},
   "outputs": [],
   "source": [
    "writer = pd.ExcelWriter('FR_dataset.xlsx', engine='openpyxl', date_format='dd mmmm yyyy')\n",
    "#writer = pd.ExcelWriter(a, engine='xlsxwriter', date_format='dd mmmm yyyy')\n",
    "FR_dataset.to_excel(writer, sheet_name='Article Consumption Supplier Fo', index=False)\n",
    "writer.save()"
   ]
  },
  {
   "cell_type": "code",
   "execution_count": 16,
   "id": "b448a3a9",
   "metadata": {},
   "outputs": [],
   "source": [
    "US_dataset = data.loc[data['Country'] == 'United States' ]"
   ]
  },
  {
   "cell_type": "code",
   "execution_count": 17,
   "id": "60b6fe37",
   "metadata": {
    "scrolled": false
   },
   "outputs": [
    {
     "data": {
      "text/html": [
       "<div>\n",
       "<style scoped>\n",
       "    .dataframe tbody tr th:only-of-type {\n",
       "        vertical-align: middle;\n",
       "    }\n",
       "\n",
       "    .dataframe tbody tr th {\n",
       "        vertical-align: top;\n",
       "    }\n",
       "\n",
       "    .dataframe thead th {\n",
       "        text-align: right;\n",
       "    }\n",
       "</style>\n",
       "<table border=\"1\" class=\"dataframe\">\n",
       "  <thead>\n",
       "    <tr style=\"text-align: right;\">\n",
       "      <th></th>\n",
       "      <th>Date</th>\n",
       "      <th>Country</th>\n",
       "      <th>Confirmed</th>\n",
       "      <th>Deaths</th>\n",
       "      <th>Recovered</th>\n",
       "    </tr>\n",
       "  </thead>\n",
       "  <tbody>\n",
       "    <tr>\n",
       "      <th>7</th>\n",
       "      <td>2020-01-22</td>\n",
       "      <td>United States</td>\n",
       "      <td>1.0</td>\n",
       "      <td>0.0</td>\n",
       "      <td>0.0</td>\n",
       "    </tr>\n",
       "    <tr>\n",
       "      <th>22</th>\n",
       "      <td>2020-01-23</td>\n",
       "      <td>United States</td>\n",
       "      <td>1.0</td>\n",
       "      <td>0.0</td>\n",
       "      <td>0.0</td>\n",
       "    </tr>\n",
       "    <tr>\n",
       "      <th>33</th>\n",
       "      <td>2020-01-24</td>\n",
       "      <td>United States</td>\n",
       "      <td>2.0</td>\n",
       "      <td>0.0</td>\n",
       "      <td>0.0</td>\n",
       "    </tr>\n",
       "    <tr>\n",
       "      <th>47</th>\n",
       "      <td>2020-01-25</td>\n",
       "      <td>United States</td>\n",
       "      <td>2.0</td>\n",
       "      <td>0.0</td>\n",
       "      <td>0.0</td>\n",
       "    </tr>\n",
       "    <tr>\n",
       "      <th>62</th>\n",
       "      <td>2020-01-26</td>\n",
       "      <td>United States</td>\n",
       "      <td>5.0</td>\n",
       "      <td>0.0</td>\n",
       "      <td>0.0</td>\n",
       "    </tr>\n",
       "  </tbody>\n",
       "</table>\n",
       "</div>"
      ],
      "text/plain": [
       "         Date        Country  Confirmed  Deaths  Recovered\n",
       "7  2020-01-22  United States        1.0     0.0        0.0\n",
       "22 2020-01-23  United States        1.0     0.0        0.0\n",
       "33 2020-01-24  United States        2.0     0.0        0.0\n",
       "47 2020-01-25  United States        2.0     0.0        0.0\n",
       "62 2020-01-26  United States        5.0     0.0        0.0"
      ]
     },
     "execution_count": 17,
     "metadata": {},
     "output_type": "execute_result"
    }
   ],
   "source": [
    "US_dataset.head()"
   ]
  },
  {
   "cell_type": "code",
   "execution_count": 18,
   "id": "6777bf9b",
   "metadata": {},
   "outputs": [],
   "source": [
    "writer = pd.ExcelWriter('US_dataset.xlsx', engine='openpyxl', date_format='dd mmmm yyyy')\n",
    "#writer = pd.ExcelWriter(a, engine='xlsxwriter', date_format='dd mmmm yyyy')\n",
    "US_dataset.to_excel(writer, sheet_name='Article Consumption Supplier Fo', index=False)\n",
    "writer.save()"
   ]
  },
  {
   "cell_type": "code",
   "execution_count": 19,
   "id": "ddeec7a1",
   "metadata": {},
   "outputs": [],
   "source": [
    "UK_dataset = data.loc[data['Country'] == 'United Kingdom' ]"
   ]
  },
  {
   "cell_type": "code",
   "execution_count": 20,
   "id": "b1ce4b71",
   "metadata": {},
   "outputs": [],
   "source": [
    "writer = pd.ExcelWriter('UK_dataset.xlsx', engine='openpyxl', date_format='dd mmmm yyyy')\n",
    "#writer = pd.ExcelWriter(a, engine='xlsxwriter', date_format='dd mmmm yyyy')\n",
    "UK_dataset.to_excel(writer, sheet_name='Article Consumption Supplier Fo', index=False)\n",
    "writer.save()"
   ]
  },
  {
   "cell_type": "code",
   "execution_count": 21,
   "id": "e8be6961",
   "metadata": {},
   "outputs": [],
   "source": [
    "Brazil_dataset = data.loc[data['Country'] == 'Brazil' ]"
   ]
  },
  {
   "cell_type": "code",
   "execution_count": 22,
   "id": "7be21aaf",
   "metadata": {},
   "outputs": [],
   "source": [
    "writer = pd.ExcelWriter('Brazil_dataset.xlsx', engine='openpyxl', date_format='dd mmmm yyyy')\n",
    "#writer = pd.ExcelWriter(a, engine='xlsxwriter', date_format='dd mmmm yyyy')\n",
    "Brazil_dataset.to_excel(writer, sheet_name='Article Consumption Supplier Fo', index=False)\n",
    "writer.save()"
   ]
  }
 ],
 "metadata": {
  "kernelspec": {
   "display_name": "Python 3 (ipykernel)",
   "language": "python",
   "name": "python3"
  },
  "language_info": {
   "codemirror_mode": {
    "name": "ipython",
    "version": 3
   },
   "file_extension": ".py",
   "mimetype": "text/x-python",
   "name": "python",
   "nbconvert_exporter": "python",
   "pygments_lexer": "ipython3",
   "version": "3.9.12"
  }
 },
 "nbformat": 4,
 "nbformat_minor": 5
}
